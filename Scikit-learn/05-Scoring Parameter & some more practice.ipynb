{
 "cells": [
  {
   "cell_type": "code",
   "execution_count": 1,
   "id": "fef47a31",
   "metadata": {},
   "outputs": [],
   "source": [
    "import pandas as pd\n",
    "import numpy as np\n",
    "import matplotlib.pyplot as plt\n",
    "%matplotlib inline"
   ]
  },
  {
   "cell_type": "code",
   "execution_count": 2,
   "id": "11c778ec",
   "metadata": {},
   "outputs": [
    {
     "data": {
      "text/plain": [
       "array([0.83606557, 0.8852459 , 0.81967213, 0.85      , 0.75      ])"
      ]
     },
     "execution_count": 2,
     "metadata": {},
     "output_type": "execute_result"
    }
   ],
   "source": [
    "heart_disease=pd.read_csv(\"data/heart-disease.csv\")\n",
    "\n",
    "X=heart_disease.drop('target',axis=1)\n",
    "y=heart_disease[\"target\"]\n",
    "\n",
    "from sklearn.model_selection import cross_val_score\n",
    "from sklearn.ensemble import RandomForestClassifier\n",
    "\n",
    "\n",
    "np.random.seed(50)\n",
    "\n",
    "clf=RandomForestClassifier()\n",
    "\n",
    "cv_acc=cross_val_score(clf,X,y,cv=5)\n",
    "cv_acc"
   ]
  },
  {
   "cell_type": "code",
   "execution_count": 3,
   "id": "8185a372",
   "metadata": {},
   "outputs": [
    {
     "name": "stdout",
     "output_type": "stream",
     "text": [
      "The cross validation accuracy is: 82.82 %\n"
     ]
    }
   ],
   "source": [
    "# Cross validated accuracy\n",
    "print(f\"The cross validation accuracy is: {np.mean(cv_acc)*100:.2f} %\")"
   ]
  },
  {
   "cell_type": "code",
   "execution_count": 6,
   "id": "190cfb88",
   "metadata": {},
   "outputs": [
    {
     "name": "stdout",
     "output_type": "stream",
     "text": [
      "The precision is: 83.01 %\n"
     ]
    }
   ],
   "source": [
    "# Precision\n",
    "np.random.seed(50)\n",
    "cv_pre=cross_val_score(clf,X,y,cv=5,scoring='precision')\n",
    "print(f\"The precision is: {np.mean(cv_pre)*100:.2f} %\")"
   ]
  },
  {
   "cell_type": "code",
   "execution_count": 5,
   "id": "4e0303b8",
   "metadata": {},
   "outputs": [
    {
     "name": "stdout",
     "output_type": "stream",
     "text": [
      "The recall is: 86.67 %\n"
     ]
    }
   ],
   "source": [
    "# Recall\n",
    "np.random.seed(50)\n",
    "cv_recall=cross_val_score(clf,X,y,cv=5,scoring='recall')\n",
    "print(f\"The recall is: {np.mean(cv_recall)*100:.2f} %\")"
   ]
  },
  {
   "cell_type": "code",
   "execution_count": 9,
   "id": "858391f8",
   "metadata": {},
   "outputs": [
    {
     "name": "stdout",
     "output_type": "stream",
     "text": [
      "The f1 score is: 0.85 %\n"
     ]
    }
   ],
   "source": [
    "# F1 score\n",
    "np.random.seed(50)\n",
    "cv_f1=cross_val_score(clf,X,y,cv=5,scoring='f1')\n",
    "print(f\"The f1 score is: {np.mean(cv_f1):.2f} %\")"
   ]
  },
  {
   "cell_type": "markdown",
   "id": "5b12fcd4",
   "metadata": {},
   "source": [
    "### Regression model metrics using scoring paramater"
   ]
  },
  {
   "cell_type": "code",
   "execution_count": 15,
   "id": "b152e838",
   "metadata": {},
   "outputs": [
    {
     "data": {
      "text/plain": [
       "array([0.77231143, 0.86035935, 0.74664002, 0.47632078, 0.26630379])"
      ]
     },
     "execution_count": 15,
     "metadata": {},
     "output_type": "execute_result"
    }
   ],
   "source": [
    "from sklearn.model_selection import cross_val_score\n",
    "from sklearn.ensemble import RandomForestRegressor\n",
    "from sklearn.datasets import load_boston\n",
    "\n",
    "boston=load_boston()\n",
    "\n",
    "X=pd.DataFrame(boston[\"data\"],columns=boston[\"feature_names\"])\n",
    "y=boston[\"target\"]\n",
    "\n",
    "np.random.seed(42)\n",
    "model=RandomForestRegressor();\n",
    "\n",
    "R2_score=cross_val_score(model,X,y,scoring=None)\n",
    "R2_score"
   ]
  },
  {
   "cell_type": "code",
   "execution_count": 17,
   "id": "6ae8dd30",
   "metadata": {},
   "outputs": [
    {
     "data": {
      "text/plain": [
       "array([-2.11419608, -2.58716832, -3.33976238, -3.78563366, -3.32941584])"
      ]
     },
     "execution_count": 17,
     "metadata": {},
     "output_type": "execute_result"
    }
   ],
   "source": [
    "np.random.seed(42)\n",
    "cross_val_score(model,X,y,scoring=\"neg_mean_absolute_error\")"
   ]
  },
  {
   "cell_type": "code",
   "execution_count": 19,
   "id": "8df2e199",
   "metadata": {},
   "outputs": [
    {
     "data": {
      "text/plain": [
       "array([ -7.86326927, -12.71243178, -20.29089194, -45.93287403,\n",
       "       -19.50774726])"
      ]
     },
     "execution_count": 19,
     "metadata": {},
     "output_type": "execute_result"
    }
   ],
   "source": [
    "np.random.seed(42)\n",
    "cross_val_score(model,X,y,scoring=\"neg_mean_squared_error\")"
   ]
  },
  {
   "cell_type": "markdown",
   "id": "18daee92",
   "metadata": {},
   "source": [
    "## Using evaluation metrics directly from scikit-learn function"
   ]
  },
  {
   "cell_type": "markdown",
   "id": "23f54a04",
   "metadata": {},
   "source": [
    "### Classification "
   ]
  },
  {
   "cell_type": "code",
   "execution_count": 68,
   "id": "de435ef2",
   "metadata": {},
   "outputs": [
    {
     "name": "stdout",
     "output_type": "stream",
     "text": [
      "Classifier metrics:\n",
      "Accuracy: 85.246%\n",
      "Precision: 0.871\n",
      "Recall: 0.844\n",
      "F1 Score: 0.857\n"
     ]
    }
   ],
   "source": [
    "from sklearn.metrics import accuracy_score,f1_score,recall_score,precision_score\n",
    "from sklearn.model_selection import train_test_split\n",
    "from sklearn.ensemble import RandomForestClassifier\n",
    "\n",
    "heart_disease=pd.read_csv(\"data/heart-disease.csv\")\n",
    "\n",
    "X=heart_disease.drop('target',axis=1)\n",
    "y=heart_disease[\"target\"]\n",
    "\n",
    "np.random.seed(69)\n",
    "\n",
    "X_train,X_test,y_train,y_test=train_test_split(X,y,test_size=0.2)\n",
    "clf=RandomForestClassifier().fit(X_train,y_train)\n",
    "\n",
    "y_preds=clf.predict(X_test)\n",
    "\n",
    "# Metrics\n",
    "print(\"Classifier metrics:\")\n",
    "print(f\"Accuracy: {accuracy_score(y_test,y_preds)*100:.3f}%\")\n",
    "print(f\"Precision: {precision_score(y_test,y_preds):.3f}\")\n",
    "print(f\"Recall: {recall_score(y_test,y_preds):.3f}\")\n",
    "print(f\"F1 Score: {f1_score(y_test,y_preds):.3f}\")"
   ]
  },
  {
   "cell_type": "markdown",
   "id": "d37b7610",
   "metadata": {},
   "source": [
    "### Regression"
   ]
  },
  {
   "cell_type": "code",
   "execution_count": 70,
   "id": "1918932a",
   "metadata": {},
   "outputs": [
    {
     "name": "stdout",
     "output_type": "stream",
     "text": [
      "Regressor metrics:\n",
      "R2 score: 0.907\n",
      "Mean absolute Error: 2.377\n",
      "Mean Squared Error: 10.081\n"
     ]
    }
   ],
   "source": [
    "from sklearn.metrics import r2_score,mean_absolute_error,mean_squared_error\n",
    "from sklearn.model_selection import train_test_split\n",
    "from sklearn.ensemble import RandomForestRegressor\n",
    "from sklearn.datasets import load_boston\n",
    "\n",
    "boston=load_boston()\n",
    "\n",
    "np.random.seed(45)\n",
    "\n",
    "X_train,X_test,y_train,y_test=train_test_split(X,y,test_size=0.2)\n",
    "\n",
    "X=pd.DataFrame(boston[\"data\"],columns=boston[\"feature_names\"])\n",
    "y=boston[\"target\"]\n",
    "\n",
    "\n",
    "model=RandomForestRegressor().fit(X_train,y_train);\n",
    "\n",
    "y_preds=model.predict(X_test)\n",
    "\n",
    "# Metrics\n",
    "print(\"Regressor metrics:\")\n",
    "print(f\"R2 score: {r2_score(y_test,y_preds):.3f}\")\n",
    "print(f\"Mean absolute Error: {mean_absolute_error(y_test,y_preds):.3f}\")\n",
    "print(f\"Mean Squared Error: {mean_squared_error(y_test,y_preds):.3f}\")"
   ]
  }
 ],
 "metadata": {
  "kernelspec": {
   "display_name": "Python 3 (ipykernel)",
   "language": "python",
   "name": "python3"
  },
  "language_info": {
   "codemirror_mode": {
    "name": "ipython",
    "version": 3
   },
   "file_extension": ".py",
   "mimetype": "text/x-python",
   "name": "python",
   "nbconvert_exporter": "python",
   "pygments_lexer": "ipython3",
   "version": "3.9.6"
  }
 },
 "nbformat": 4,
 "nbformat_minor": 5
}
