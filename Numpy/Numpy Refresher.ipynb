{
 "cells": [
  {
   "cell_type": "code",
   "execution_count": 1,
   "id": "c7e48e5b",
   "metadata": {},
   "outputs": [],
   "source": [
    "#Importing Ritual\n",
    "import numpy as np"
   ]
  },
  {
   "cell_type": "code",
   "execution_count": 3,
   "id": "282afd83",
   "metadata": {},
   "outputs": [
    {
     "data": {
      "text/plain": [
       "array([1, 2, 3, 4])"
      ]
     },
     "execution_count": 3,
     "metadata": {},
     "output_type": "execute_result"
    }
   ],
   "source": [
    "# Datatypes and Attributes\n",
    "# Numpy's main datatype is ndarray\n",
    "\n",
    "a1=np.array([1,2,3,4])\n",
    "a1"
   ]
  },
  {
   "cell_type": "code",
   "execution_count": 15,
   "id": "b7a8feee",
   "metadata": {},
   "outputs": [],
   "source": [
    "a2 = np.array([[1,2.0,3.0],[4,5,6.0]])\n",
    "a3 = np.array ([[[1,2,3],\n",
    "                [4,5,6],\n",
    "                [7,8,9]],\n",
    "               [[10,11,12],\n",
    "               [13,14,15],\n",
    "               [16,17,18]]])"
   ]
  },
  {
   "cell_type": "code",
   "execution_count": 16,
   "id": "fd0f4485",
   "metadata": {},
   "outputs": [
    {
     "data": {
      "text/plain": [
       "(2, 3, 3)"
      ]
     },
     "execution_count": 16,
     "metadata": {},
     "output_type": "execute_result"
    }
   ],
   "source": [
    "# Numpy attributes\n",
    "a3.shape"
   ]
  },
  {
   "cell_type": "code",
   "execution_count": 17,
   "id": "592ee073",
   "metadata": {},
   "outputs": [
    {
     "data": {
      "text/plain": [
       "(2, 3)"
      ]
     },
     "execution_count": 17,
     "metadata": {},
     "output_type": "execute_result"
    }
   ],
   "source": [
    "a2.shape"
   ]
  },
  {
   "cell_type": "code",
   "execution_count": 18,
   "id": "6aef0f74",
   "metadata": {},
   "outputs": [
    {
     "data": {
      "text/plain": [
       "(3, 2)"
      ]
     },
     "execution_count": 18,
     "metadata": {},
     "output_type": "execute_result"
    }
   ],
   "source": [
    "#Numpy Dimensions\n",
    "a3.ndim, a2.ndim"
   ]
  },
  {
   "cell_type": "code",
   "execution_count": 19,
   "id": "4285dfa8",
   "metadata": {},
   "outputs": [
    {
     "data": {
      "text/plain": [
       "dtype('float64')"
      ]
     },
     "execution_count": 19,
     "metadata": {},
     "output_type": "execute_result"
    }
   ],
   "source": [
    "a2.dtype"
   ]
  },
  {
   "cell_type": "code",
   "execution_count": 20,
   "id": "d1c672bc",
   "metadata": {},
   "outputs": [
    {
     "data": {
      "text/plain": [
       "18"
      ]
     },
     "execution_count": 20,
     "metadata": {},
     "output_type": "execute_result"
    }
   ],
   "source": [
    "#Total Number of Elements\n",
    "a3.size"
   ]
  },
  {
   "cell_type": "code",
   "execution_count": 22,
   "id": "ccdb17fd",
   "metadata": {},
   "outputs": [
    {
     "data": {
      "text/plain": [
       "(numpy.ndarray, numpy.ndarray)"
      ]
     },
     "execution_count": 22,
     "metadata": {},
     "output_type": "execute_result"
    }
   ],
   "source": [
    "#Type \n",
    "type(a2), type(a3)"
   ]
  },
  {
   "cell_type": "code",
   "execution_count": 24,
   "id": "172874bc",
   "metadata": {},
   "outputs": [
    {
     "data": {
      "text/plain": [
       "(array([[1., 1., 1.],\n",
       "        [1., 1., 1.]]),\n",
       " 2)"
      ]
     },
     "execution_count": 24,
     "metadata": {},
     "output_type": "execute_result"
    }
   ],
   "source": [
    "# Regular Numpy Array\n",
    "all_ones=np.ones((2,3))\n",
    "all_ones,all_ones.ndim"
   ]
  },
  {
   "cell_type": "code",
   "execution_count": 25,
   "id": "018bb773",
   "metadata": {},
   "outputs": [
    {
     "data": {
      "text/plain": [
       "(array([[[1., 1., 1., 1.],\n",
       "         [1., 1., 1., 1.],\n",
       "         [1., 1., 1., 1.]],\n",
       " \n",
       "        [[1., 1., 1., 1.],\n",
       "         [1., 1., 1., 1.],\n",
       "         [1., 1., 1., 1.]]]),\n",
       " 3)"
      ]
     },
     "execution_count": 25,
     "metadata": {},
     "output_type": "execute_result"
    }
   ],
   "source": [
    "all_ones_3d=np.ones((2,3,4))\n",
    "all_ones_3d,all_ones_3d.ndim"
   ]
  },
  {
   "cell_type": "code",
   "execution_count": 26,
   "id": "e21e48a2",
   "metadata": {},
   "outputs": [
    {
     "data": {
      "text/plain": [
       "(array([[0., 0., 0.],\n",
       "        [0., 0., 0.]]),\n",
       " 2)"
      ]
     },
     "execution_count": 26,
     "metadata": {},
     "output_type": "execute_result"
    }
   ],
   "source": [
    "all_zeros=np.zeros((2,3))\n",
    "all_zeros,all_zeros.ndim"
   ]
  },
  {
   "cell_type": "code",
   "execution_count": 27,
   "id": "2802040b",
   "metadata": {},
   "outputs": [
    {
     "data": {
      "text/plain": [
       "(array([0, 2, 4, 6, 8]), 1)"
      ]
     },
     "execution_count": 27,
     "metadata": {},
     "output_type": "execute_result"
    }
   ],
   "source": [
    "range_array=np.arange(0,10,2)\n",
    "range_array,range_array.ndim"
   ]
  },
  {
   "cell_type": "code",
   "execution_count": 28,
   "id": "554c11ba",
   "metadata": {},
   "outputs": [
    {
     "data": {
      "text/plain": [
       "(array([[1, 1, 6, 5, 2],\n",
       "        [8, 3, 6, 2, 6],\n",
       "        [2, 3, 3, 0, 3]]),\n",
       " 2)"
      ]
     },
     "execution_count": 28,
     "metadata": {},
     "output_type": "execute_result"
    }
   ],
   "source": [
    "random_array=np.random.randint(0,10,size=(3,5))\n",
    "random_array,random_array.ndim"
   ]
  },
  {
   "cell_type": "code",
   "execution_count": 35,
   "id": "5bb9fedf",
   "metadata": {},
   "outputs": [
    {
     "data": {
      "text/plain": [
       "(array([[[5, 5, 8, 3],\n",
       "         [8, 0, 7, 7],\n",
       "         [1, 1, 4, 4],\n",
       "         [2, 9, 6, 4],\n",
       "         [1, 1, 2, 1]],\n",
       " \n",
       "        [[1, 7, 0, 4],\n",
       "         [6, 9, 4, 6],\n",
       "         [1, 0, 8, 2],\n",
       "         [8, 8, 9, 7],\n",
       "         [4, 5, 1, 8]],\n",
       " \n",
       "        [[0, 8, 7, 3],\n",
       "         [2, 5, 1, 8],\n",
       "         [5, 9, 9, 8],\n",
       "         [1, 9, 4, 4],\n",
       "         [5, 5, 3, 1]]]),\n",
       " 3)"
      ]
     },
     "execution_count": 35,
     "metadata": {},
     "output_type": "execute_result"
    }
   ],
   "source": [
    "random_array_3d=np.random.randint(0,10,size=(3,5,4))\n",
    "random_array_3d,random_array_3d.ndim"
   ]
  },
  {
   "cell_type": "code",
   "execution_count": 32,
   "id": "9de61707",
   "metadata": {},
   "outputs": [
    {
     "data": {
      "text/plain": [
       "(array([[[0.2245587 , 0.02855954],\n",
       "         [0.91756294, 0.99626053],\n",
       "         [0.257272  , 0.91089106]],\n",
       " \n",
       "        [[0.17735843, 0.45170238],\n",
       "         [0.97933221, 0.49633284],\n",
       "         [0.48940114, 0.66372375]],\n",
       " \n",
       "        [[0.96534421, 0.67560576],\n",
       "         [0.62382479, 0.88289513],\n",
       "         [0.33693024, 0.10754458]],\n",
       " \n",
       "        [[0.47211725, 0.13936179],\n",
       "         [0.68931709, 0.05195772],\n",
       "         [0.09995218, 0.11690365]],\n",
       " \n",
       "        [[0.24627686, 0.05036593],\n",
       "         [0.68150906, 0.91594204],\n",
       "         [0.46278598, 0.65826042]]]),\n",
       " 3)"
      ]
     },
     "execution_count": 32,
     "metadata": {},
     "output_type": "execute_result"
    }
   ],
   "source": [
    "random_array_2=np.random.random((5,3,2))\n",
    "random_array_2,random_array_2.ndim"
   ]
  },
  {
   "cell_type": "code",
   "execution_count": 34,
   "id": "419bd29c",
   "metadata": {},
   "outputs": [
    {
     "data": {
      "text/plain": [
       "(5, 3, 2)"
      ]
     },
     "execution_count": 34,
     "metadata": {},
     "output_type": "execute_result"
    }
   ],
   "source": [
    "random_array_2.shape"
   ]
  },
  {
   "cell_type": "code",
   "execution_count": 36,
   "id": "1284c314",
   "metadata": {},
   "outputs": [
    {
     "data": {
      "text/plain": [
       "(array([[[0.71392893, 0.38304483, 0.52508685, 0.45120873],\n",
       "         [0.28017996, 0.17109514, 0.08150243, 0.39750649],\n",
       "         [0.36468466, 0.29159077, 0.79451039, 0.67448586]],\n",
       " \n",
       "        [[0.84602123, 0.72069184, 0.38926327, 0.56386884],\n",
       "         [0.40219885, 0.2158852 , 0.28763085, 0.60741963],\n",
       "         [0.00796809, 0.49741033, 0.6454139 , 0.62563156]],\n",
       " \n",
       "        [[0.40833864, 0.4859769 , 0.30931896, 0.64749947],\n",
       "         [0.4784879 , 0.50289647, 0.69175337, 0.41794454],\n",
       "         [0.36237673, 0.02571318, 0.19068096, 0.68704303]],\n",
       " \n",
       "        [[0.05602314, 0.81475969, 0.15247435, 0.87153567],\n",
       "         [0.01251938, 0.72017124, 0.97320043, 0.95241009],\n",
       "         [0.58048519, 0.91187998, 0.33291014, 0.58679137]],\n",
       " \n",
       "        [[0.99488636, 0.46409274, 0.707754  , 0.66695269],\n",
       "         [0.81214557, 0.1071598 , 0.41385689, 0.09344676],\n",
       "         [0.51739916, 0.04124061, 0.06504796, 0.76840018]]]),\n",
       " 3)"
      ]
     },
     "execution_count": 36,
     "metadata": {},
     "output_type": "execute_result"
    }
   ],
   "source": [
    "random_array_3=np.random.rand(5,3,4)\n",
    "random_array_3,random_array_3.ndim"
   ]
  },
  {
   "cell_type": "code",
   "execution_count": 2,
   "id": "138a32d3",
   "metadata": {},
   "outputs": [
    {
     "data": {
      "text/plain": [
       "array([[8, 9, 3],\n",
       "       [8, 8, 0],\n",
       "       [5, 3, 9],\n",
       "       [9, 5, 7],\n",
       "       [6, 0, 4]])"
      ]
     },
     "execution_count": 2,
     "metadata": {},
     "output_type": "execute_result"
    }
   ],
   "source": [
    "# Random Seed\n",
    "np.random.seed(3)\n",
    "random_array_4=np.random.randint(10,size=(5,3))\n",
    "random_array_4"
   ]
  },
  {
   "cell_type": "code",
   "execution_count": 4,
   "id": "a88f4a27",
   "metadata": {},
   "outputs": [
    {
     "data": {
      "text/plain": [
       "array([0, 3, 4, 5, 6, 7, 8, 9])"
      ]
     },
     "execution_count": 4,
     "metadata": {},
     "output_type": "execute_result"
    }
   ],
   "source": [
    "#Unique Elements in an array\n",
    "np.unique(random_array_4)"
   ]
  },
  {
   "cell_type": "code",
   "execution_count": 3,
   "id": "dc9e1463",
   "metadata": {},
   "outputs": [
    {
     "data": {
      "text/plain": [
       "84"
      ]
     },
     "execution_count": 3,
     "metadata": {},
     "output_type": "execute_result"
    }
   ],
   "source": [
    "# Aggregation\n",
    "np.sum(random_array_4)"
   ]
  },
  {
   "cell_type": "code",
   "execution_count": 4,
   "id": "c017c9c3",
   "metadata": {},
   "outputs": [
    {
     "data": {
      "text/plain": [
       "array([36, 25, 23])"
      ]
     },
     "execution_count": 4,
     "metadata": {},
     "output_type": "execute_result"
    }
   ],
   "source": [
    "sum(random_array_4)"
   ]
  },
  {
   "cell_type": "code",
   "execution_count": 6,
   "id": "718e4194",
   "metadata": {},
   "outputs": [
    {
     "data": {
      "text/plain": [
       "array([0.02987621, 0.45683322, 0.64914405, 0.27848728, 0.6762549 ,\n",
       "       0.59086282, 0.02398188, 0.55885409, 0.25925245, 0.4151012 ])"
      ]
     },
     "execution_count": 6,
     "metadata": {},
     "output_type": "execute_result"
    }
   ],
   "source": [
    "listy_list=np.random.random(10000)\n",
    "listy_list[:10]"
   ]
  },
  {
   "cell_type": "markdown",
   "id": "0ebf1d51",
   "metadata": {},
   "source": [
    "# Use `sum()` for python data types and use `np.sum()` for Numpy arrays"
   ]
  },
  {
   "cell_type": "code",
   "execution_count": 7,
   "id": "9b2a5573",
   "metadata": {},
   "outputs": [
    {
     "name": "stdout",
     "output_type": "stream",
     "text": [
      "2.55 ms ± 132 µs per loop (mean ± std. dev. of 7 runs, 100 loops each)\n",
      "26.2 µs ± 480 ns per loop (mean ± std. dev. of 7 runs, 10000 loops each)\n"
     ]
    }
   ],
   "source": [
    "%timeit sum(listy_list)\n",
    "%timeit np.sum(listy_list)"
   ]
  },
  {
   "cell_type": "code",
   "execution_count": 8,
   "id": "f6cceee0",
   "metadata": {},
   "outputs": [
    {
     "data": {
      "text/plain": [
       "(0.2880062741864281, 0.082947613970748, 0.2880062741864281)"
      ]
     },
     "execution_count": 8,
     "metadata": {},
     "output_type": "execute_result"
    }
   ],
   "source": [
    "# Standard deviation = a mesaure of how spread out a group of numbers is from mean \n",
    "# Variance = measure of the average degree to which each number is different to the mean\n",
    "# Higher variance = Wider range of numbers\n",
    "# Lower variance = Lower range of numbers\n",
    "# Standard deviation = sqrt (vairance)\n",
    "np.std(listy_list), np.var(listy_list), np.sqrt(np.var(listy_list))"
   ]
  },
  {
   "cell_type": "code",
   "execution_count": 9,
   "id": "4ed5d56c",
   "metadata": {},
   "outputs": [],
   "source": [
    "a1=np.random.randint(0,10,size=(2,3))"
   ]
  },
  {
   "cell_type": "code",
   "execution_count": 10,
   "id": "6b9a7c8f",
   "metadata": {},
   "outputs": [
    {
     "data": {
      "text/plain": [
       "array([[7, 4, 3],\n",
       "       [5, 0, 5]])"
      ]
     },
     "execution_count": 10,
     "metadata": {},
     "output_type": "execute_result"
    }
   ],
   "source": [
    "a1"
   ]
  },
  {
   "cell_type": "code",
   "execution_count": 15,
   "id": "1ebfff0d",
   "metadata": {},
   "outputs": [
    {
     "data": {
      "text/plain": [
       "array([[[7],\n",
       "        [4],\n",
       "        [3]],\n",
       "\n",
       "       [[5],\n",
       "        [0],\n",
       "        [5]]])"
      ]
     },
     "execution_count": 15,
     "metadata": {},
     "output_type": "execute_result"
    }
   ],
   "source": [
    "a1.reshape(2,3,1)"
   ]
  },
  {
   "cell_type": "code",
   "execution_count": 16,
   "id": "08596a43",
   "metadata": {},
   "outputs": [
    {
     "data": {
      "text/plain": [
       "array([[7, 5],\n",
       "       [4, 0],\n",
       "       [3, 5]])"
      ]
     },
     "execution_count": 16,
     "metadata": {},
     "output_type": "execute_result"
    }
   ],
   "source": [
    "# Transpose \n",
    "a1.T"
   ]
  },
  {
   "cell_type": "code",
   "execution_count": 17,
   "id": "97e470cf",
   "metadata": {},
   "outputs": [
    {
     "data": {
      "text/plain": [
       "array([2, 5, 0, 3])"
      ]
     },
     "execution_count": 17,
     "metadata": {},
     "output_type": "execute_result"
    }
   ],
   "source": [
    "a1=np.array([2,5,0,3])\n",
    "a1"
   ]
  },
  {
   "cell_type": "code",
   "execution_count": 18,
   "id": "1662fe8b",
   "metadata": {},
   "outputs": [
    {
     "data": {
      "text/plain": [
       "(array([2, 0, 3, 1], dtype=int64), 2, 1)"
      ]
     },
     "execution_count": 18,
     "metadata": {},
     "output_type": "execute_result"
    }
   ],
   "source": [
    "# Finding min, max using argsort\n",
    "np.argsort(a1), np.argmin(a1), np.argmax(a1)"
   ]
  },
  {
   "cell_type": "code",
   "execution_count": null,
   "id": "d348f69f",
   "metadata": {},
   "outputs": [],
   "source": []
  }
 ],
 "metadata": {
  "kernelspec": {
   "display_name": "Python 3",
   "language": "python",
   "name": "python3"
  },
  "language_info": {
   "codemirror_mode": {
    "name": "ipython",
    "version": 3
   },
   "file_extension": ".py",
   "mimetype": "text/x-python",
   "name": "python",
   "nbconvert_exporter": "python",
   "pygments_lexer": "ipython3",
   "version": "3.9.6"
  }
 },
 "nbformat": 4,
 "nbformat_minor": 5
}
